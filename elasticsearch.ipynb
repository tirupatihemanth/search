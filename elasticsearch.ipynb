{
 "cells": [
  {
   "cell_type": "code",
   "execution_count": null,
   "metadata": {},
   "outputs": [],
   "source": [
    "from elasticsearch import Elasticsearch, helpers\n",
    "import os\n",
    "import pandas as pd\n",
    "import json\n",
    "import gradio as gr\n",
    "from dotenv import load_dotenv, find_dotenv\n",
    "\n",
    "_ = load_dotenv(find_dotenv())"
   ]
  },
  {
   "cell_type": "code",
   "execution_count": null,
   "metadata": {},
   "outputs": [],
   "source": [
    "client = Elasticsearch(\n",
    "    os.getenv('ELASTIC_HOST'),\n",
    "    ca_certs=os.getenv('CERT_PATH'),\n",
    "    basic_auth=(os.getenv('ELASTIC_USER'), os.getenv('ELASTIC_PASS'))\n",
    ")\n",
    "client.ping()"
   ]
  },
  {
   "cell_type": "code",
   "execution_count": null,
   "metadata": {},
   "outputs": [],
   "source": [
    "# df = pd.read_csv(\"./ziymo.csv\")\n",
    "# df.head()\n",
    "# df.columns\n",
    "# df.shape\n",
    "# df.isna().sum()\n",
    "#df.dropna() #will drop all rows with a na val in any of the columns"
   ]
  },
  {
   "cell_type": "code",
   "execution_count": null,
   "metadata": {},
   "outputs": [],
   "source": [
    "# df_dict = df.to_dict('records')\n",
    "# print(df_dict[0])"
   ]
  },
  {
   "cell_type": "code",
   "execution_count": null,
   "metadata": {},
   "outputs": [],
   "source": [
    "#client.indices.create(index=\"zimyo\", settings=Settings, ignore=[400, 401])"
   ]
  },
  {
   "cell_type": "code",
   "execution_count": null,
   "metadata": {},
   "outputs": [],
   "source": [
    "def search(text, num):\n",
    "  body1 = {\n",
    "    \"query\":{\n",
    "      \"match_phrase_prefix\": {\n",
    "        \"command name\":text\n",
    "      }\n",
    "    },\n",
    "    \"size\":num\n",
    "  }\n",
    "\n",
    "  body2 = {\n",
    "    \"query\":{\n",
    "      \"bool\": {\n",
    "        \"should\": [\n",
    "          {\n",
    "            \"match_phrase_prefix\": {\n",
    "              \"command name\": text\n",
    "            }\n",
    "          },\n",
    "          {\n",
    "            \"match\":{\n",
    "              \"command name\": text\n",
    "            }\n",
    "          },\n",
    "          {\n",
    "            \"match\": {\n",
    "              \"keywords\": text\n",
    "            }\n",
    "          }\n",
    "        ]\n",
    "      }\n",
    "    },\n",
    "    \"size\":num\n",
    "  }\n",
    "\n",
    "  resp = client.search(index=\"ziymo\", body=body2)\n",
    "  return resp\n",
    "\n",
    "def get_num_results(text, num):\n",
    "  resp = search(text, num)\n",
    "  #results = [(val[\"_source\"][\"command name\"], val[\"_source\"][\"url\"]) for val in resp[\"hits\"][\"hits\"]]\n",
    "  results = [val[\"_source\"][\"command name\"] for val in resp[\"hits\"][\"hits\"]]\n",
    "  return \"\\n\".join(results)"
   ]
  },
  {
   "cell_type": "code",
   "execution_count": null,
   "metadata": {},
   "outputs": [],
   "source": [
    "# resp = search(\"employee\", 10)\n",
    "# print(resp)\n",
    "# len(resp[\"hits\"][\"hits\"])"
   ]
  },
  {
   "cell_type": "code",
   "execution_count": null,
   "metadata": {},
   "outputs": [],
   "source": [
    "import gradio as gr\n",
    "\n",
    "gr.close_all()\n",
    "inputs = [gr.Textbox(label=\"search\"), gr.Textbox(label=\"limit\")]\n",
    "demo = gr.Interface(fn=get_num_results, inputs=inputs, outputs=gr.Textbox(label=\"search results\"), allow_flagging=\"never\")\n",
    "demo.launch()"
   ]
  },
  {
   "cell_type": "code",
   "execution_count": null,
   "metadata": {},
   "outputs": [],
   "source": []
  }
 ],
 "metadata": {
  "kernelspec": {
   "display_name": "search",
   "language": "python",
   "name": "search"
  },
  "language_info": {
   "codemirror_mode": {
    "name": "ipython",
    "version": 3
   },
   "file_extension": ".py",
   "mimetype": "text/x-python",
   "name": "python",
   "nbconvert_exporter": "python",
   "pygments_lexer": "ipython3",
   "version": "3.11.4"
  }
 },
 "nbformat": 4,
 "nbformat_minor": 4
}
